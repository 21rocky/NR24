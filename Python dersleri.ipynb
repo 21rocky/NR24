{
  "cells": [
    {
      "cell_type": "markdown",
      "metadata": {
        "id": "view-in-github",
        "colab_type": "text"
      },
      "source": [
        "<a href=\"https://colab.research.google.com/github/Rocky24code/NR24/blob/main/Python%20dersleri.ipynb\" target=\"_parent\"><img src=\"https://colab.research.google.com/assets/colab-badge.svg\" alt=\"Open In Colab\"/></a>"
      ]
    },
    {
      "cell_type": "markdown",
      "source": [
        "# Brake Və Continue"
      ],
      "metadata": {
        "id": "IkHWp-KOtbKA"
      }
    },
    {
      "cell_type": "code",
      "source": [
        "i = 0\n",
        "\n",
        "while (i < 10):\n",
        "    if i == 5:\n",
        "        break\n",
        "    print (\"i:\", i)\n",
        "    i +=1"
      ],
      "metadata": {
        "id": "jSKFlW8lmSYV",
        "outputId": "8ca0f5c7-d075-49df-fbfc-c7fc8ae52351",
        "colab": {
          "base_uri": "https://localhost:8080/"
        }
      },
      "execution_count": null,
      "outputs": [
        {
          "output_type": "stream",
          "name": "stdout",
          "text": [
            "i: 0\n",
            "i: 1\n",
            "i: 2\n",
            "i: 3\n",
            "i: 4\n"
          ]
        }
      ]
    },
    {
      "cell_type": "code",
      "source": [
        "i = 0\n",
        "\n",
        "while (i<10):\n",
        "    if i==3 or i==5:\n",
        "        i+=i\n",
        "        continue\n",
        "    print (\"i:\",i)\n",
        "    i+=1"
      ],
      "metadata": {
        "id": "aeqroPb1oA7d",
        "outputId": "aaebcfd9-b400-4bed-ba6b-1f4d8af9ed25",
        "colab": {
          "base_uri": "https://localhost:8080/"
        }
      },
      "execution_count": null,
      "outputs": [
        {
          "output_type": "stream",
          "name": "stdout",
          "text": [
            "i: 0\n",
            "i: 1\n",
            "i: 2\n",
            "i: 6\n",
            "i: 7\n",
            "i: 8\n",
            "i: 9\n"
          ]
        }
      ]
    },
    {
      "cell_type": "code",
      "source": [
        "a = (1,2,3,4,5,6)\n",
        "b=\"Python\"\n",
        "\n",
        "\n",
        "for eleman in b:                       # a veya b de ola biler (\"eleman\"  ve ya \"karakterde yazila biler\")\n",
        "     \n",
        "      print(eleman)"
      ],
      "metadata": {
        "id": "2NsBjAhTqEXt",
        "outputId": "3481b796-a397-4c2f-d764-3e6c36450d9f",
        "colab": {
          "base_uri": "https://localhost:8080/"
        }
      },
      "execution_count": null,
      "outputs": [
        {
          "output_type": "stream",
          "name": "stdout",
          "text": [
            "P\n",
            "y\n",
            "t\n",
            "h\n",
            "o\n",
            "n\n"
          ]
        }
      ]
    },
    {
      "cell_type": "markdown",
      "source": [
        "#For *Dongusu*"
      ],
      "metadata": {
        "id": "iF4SnRBouunM"
      }
    },
    {
      "cell_type": "code",
      "source": [
        "for say in range(0,10,2):   #mesel olaraq (0,10)yazmisam onu belede etmek olar(10,50).bundada 10 baslayacaq 50 kimi sayacam (50) daxil deyil\n",
        "                             #yanlarina 2 de elave edirik bu zaman 2 cut reqemleri gosterecek.\n",
        "    print (say)"
      ],
      "metadata": {
        "id": "7UphsB7Ardh-",
        "outputId": "73e5a7fa-292d-49e1-fa19-c9444258ebfa",
        "colab": {
          "base_uri": "https://localhost:8080/"
        }
      },
      "execution_count": null,
      "outputs": [
        {
          "output_type": "stream",
          "name": "stdout",
          "text": [
            "0\n",
            "2\n",
            "4\n",
            "6\n",
            "8\n"
          ]
        }
      ]
    },
    {
      "cell_type": "markdown",
      "source": [
        "#funksiyalar"
      ],
      "metadata": {
        "id": "1cKsP1j75tKF"
      }
    },
    {
      "cell_type": "code",
      "source": [
        "def selam():\n",
        "      print (\"merhaba\")\n",
        "      print (\"nasilsin ?\")\n",
        "\n",
        "selam()                        #funksiyani cagiririq"
      ],
      "metadata": {
        "id": "CXL8SiZmvT60",
        "colab": {
          "base_uri": "https://localhost:8080/"
        },
        "outputId": "01a8c4fc-e968-48ae-9f6a-d15bbcd1df5d"
      },
      "execution_count": null,
      "outputs": [
        {
          "output_type": "stream",
          "name": "stdout",
          "text": [
            "merhaba\n",
            "nasilsin ?\n"
          ]
        }
      ]
    },
    {
      "cell_type": "code",
      "source": [
        " def selam(ad):\n",
        "    print(\"merhaba\", ad)\n",
        "\n",
        "selam ('nezrin')      #bele yazib neticenide ala bilerik.\n",
        "selam ('ruhid')       #elavede etmek olar"
      ],
      "metadata": {
        "colab": {
          "base_uri": "https://localhost:8080/"
        },
        "id": "B2ar-K6p5vgt",
        "outputId": "24bb3292-8635-44e5-afc9-cae139e62c36"
      },
      "execution_count": null,
      "outputs": [
        {
          "output_type": "stream",
          "name": "stdout",
          "text": [
            "merhaba nezrin\n",
            "merhaba ruhid\n"
          ]
        }
      ]
    },
    {
      "cell_type": "code",
      "source": [
        " def selam(ad='adsız səxs'):                #funksiyanı blədə istifadə etmək olar\n",
        "    print(\"Salam\",ad)\n",
        "\n",
        "selam()\n",
        "selam('ruhid')          #yazsaq bura her hansi bir input gonderdiyimiz ucun ad elave olunak"
      ],
      "metadata": {
        "colab": {
          "base_uri": "https://localhost:8080/"
        },
        "id": "wFPQVzMQ65m6",
        "outputId": "97656e16-3b46-4e7a-c5a5-d9eb9fc1694d"
      },
      "execution_count": null,
      "outputs": [
        {
          "output_type": "stream",
          "name": "stdout",
          "text": [
            "Salam adsız səxs\n",
            "Salam ruhid\n"
          ]
        }
      ]
    },
    {
      "cell_type": "code",
      "source": [
        "def toplamaq (a,b,c):              #3 deyer alinir\n",
        "    print ('toplama', a+b+c)       # bu deyerler toplanilir\n",
        "\n",
        "toplamaq (3,4,5)                   #3=a, 4=b, 5=c beraber olur ve toplanilir"
      ],
      "metadata": {
        "colab": {
          "base_uri": "https://localhost:8080/"
        },
        "id": "S3AKixbs77ge",
        "outputId": "2e73b181-93f5-42ad-ca7b-f26aba2549d8"
      },
      "execution_count": null,
      "outputs": [
        {
          "output_type": "stream",
          "name": "stdout",
          "text": [
            "toplama 12\n"
          ]
        }
      ]
    },
    {
      "cell_type": "code",
      "source": [
        "def toplamaq (a,b,c):              \n",
        "    print ('toplama', a+b+c)\n",
        "\n",
        "a = toplamaq(3,4,5)     #her hansi bir 'output' vermediyi ucun 'a' nin deyeri ucun 'none' cavabi aliriq\n",
        "\n",
        "print(a)     "
      ],
      "metadata": {
        "colab": {
          "base_uri": "https://localhost:8080/"
        },
        "id": "H4EV2ViS9IGh",
        "outputId": "eff4f6fa-af68-478d-f7bb-1fe97f70672b"
      },
      "execution_count": null,
      "outputs": [
        {
          "output_type": "stream",
          "name": "stdout",
          "text": [
            "toplama 12\n",
            "None\n"
          ]
        }
      ]
    },
    {
      "cell_type": "code",
      "source": [
        "def toplamaq (a,b,c):              \n",
        "    return a+b+c               #cevirmek istediyimiz deyeri yaziriq\n",
        "\n",
        "toplam = toplamaq(3,4,5)\n",
        "\n",
        "print (toplam)"
      ],
      "metadata": {
        "colab": {
          "base_uri": "https://localhost:8080/"
        },
        "id": "Xez7s9UU-mxW",
        "outputId": "84e5b70f-72cd-480c-a075-0239bc462c70"
      },
      "execution_count": null,
      "outputs": [
        {
          "output_type": "stream",
          "name": "stdout",
          "text": [
            "12\n"
          ]
        }
      ]
    },
    {
      "cell_type": "code",
      "source": [
        "liste = [1,2,3,4,5,6]\n",
        "a = 'masin'\n",
        "print (len(a))               #'Len' simvollar ve reqemlerin sayini gosterir\n",
        "print (len(liste))"
      ],
      "metadata": {
        "colab": {
          "base_uri": "https://localhost:8080/"
        },
        "id": "i-8OYouavQUV",
        "outputId": "3beef237-f842-4514-86d2-fd5286525726"
      },
      "execution_count": null,
      "outputs": [
        {
          "output_type": "stream",
          "name": "stdout",
          "text": [
            "5\n",
            "6\n"
          ]
        }
      ]
    },
    {
      "cell_type": "code",
      "source": [
        "liste = [1,2,3,4,5,6]\n",
        "a = 'masin'\n",
        "\n",
        "print(a.startswith('m'))  #startswith baslangic herifi yoxlayir 'True -False' netice verir\n",
        "    "
      ],
      "metadata": {
        "colab": {
          "base_uri": "https://localhost:8080/"
        },
        "id": "bkhiJ3lUwOfh",
        "outputId": "c8435bfe-c88d-4f1b-9eaf-af3a0d628cfa"
      },
      "execution_count": null,
      "outputs": [
        {
          "output_type": "stream",
          "name": "stdout",
          "text": [
            "True\n"
          ]
        }
      ]
    },
    {
      "cell_type": "code",
      "source": [
        "liste = [1,2,3,4,5,6]\n",
        "a = 'masin'\n",
        "\n",
        "print(a.endswith('n'))    #endswith son herifi yoxlayir 'True -False' netice verir"
      ],
      "metadata": {
        "colab": {
          "base_uri": "https://localhost:8080/"
        },
        "id": "Roq2QKXIxnV_",
        "outputId": "065ff8c9-54d9-4733-ff03-f28ff01b4d5a"
      },
      "execution_count": null,
      "outputs": [
        {
          "output_type": "stream",
          "name": "stdout",
          "text": [
            "True\n"
          ]
        }
      ]
    },
    {
      "cell_type": "code",
      "source": [
        "liste = [1,2,3,4,5,6]\n",
        "a = 'masin'\n",
        "\n",
        "a = a.replace('a', 'o')    # buradaki 'a' herfini 'o' herfi ile deyisdirdik\n",
        "print(a)"
      ],
      "metadata": {
        "colab": {
          "base_uri": "https://localhost:8080/"
        },
        "id": "30dYskrZyNNk",
        "outputId": "86dfa35a-5aeb-4ced-cd67-1d791f83fe3d"
      },
      "execution_count": null,
      "outputs": [
        {
          "output_type": "stream",
          "name": "stdout",
          "text": [
            "mosin\n"
          ]
        }
      ]
    },
    {
      "cell_type": "code",
      "source": [
        "liste = [1,2,3,4,5,6]\n",
        "\n",
        "liste.append('salam')  #reqemlerin yanina herfler elave olunur\n",
        "print(liste)"
      ],
      "metadata": {
        "colab": {
          "base_uri": "https://localhost:8080/"
        },
        "id": "V_pss8QUyxJn",
        "outputId": "131382fc-f089-4751-9430-862142fecc86"
      },
      "execution_count": 2,
      "outputs": [
        {
          "output_type": "stream",
          "name": "stdout",
          "text": [
            "[1, 2, 3, 4, 5, 6, 'salam']\n"
          ]
        }
      ]
    },
    {
      "cell_type": "code",
      "source": [
        "liste = [1,2,3,4,5,6]\n",
        "\n",
        "liste.pop()        #'POP' setirdeki axirinci soz veya reqemleri silir\n",
        "                   #liste.pop(0 veya 1 )yazsam indexdeki reqemi silir [0=1],[1=2]\n",
        "print (liste)"
      ],
      "metadata": {
        "colab": {
          "base_uri": "https://localhost:8080/"
        },
        "id": "FJkvU-ffzHUH",
        "outputId": "c23721b5-ad4c-4b77-f04d-9cd70cde3c64"
      },
      "execution_count": 1,
      "outputs": [
        {
          "output_type": "stream",
          "name": "stdout",
          "text": [
            "[1, 2, 3, 4, 5]\n"
          ]
        }
      ]
    },
    {
      "cell_type": "markdown",
      "source": [
        "#dosyalar"
      ],
      "metadata": {
        "id": "-BQ6ecwzFg4D"
      }
    },
    {
      "cell_type": "code",
      "source": [
        "file = open(\"dosa.txt\",\"w\")         #'w' mutleq olmalidir \n",
        "                                    #dosya yaradir ve icine sozler cumle veya reqemler yazilir\n",
        "file.write  (\"Necesen java\")        #sozu deyisdikce kohne yazilan silinir \n",
        "\n",
        "file.close"
      ],
      "metadata": {
        "colab": {
          "base_uri": "https://localhost:8080/"
        },
        "id": "4t5su1mC6e1i",
        "outputId": "df014f7d-602d-43ca-a836-fb13182399e4"
      },
      "execution_count": 22,
      "outputs": [
        {
          "output_type": "execute_result",
          "data": {
            "text/plain": [
              "<function TextIOWrapper.close>"
            ]
          },
          "metadata": {},
          "execution_count": 22
        }
      ]
    },
    {
      "cell_type": "code",
      "source": [
        "file = open(\"Fayllar.txt\",\"a\")     # 'a' bir nov append funksiyasi kimi isleyir yeni sozler elave edir\n",
        "      \n",
        "file.write(\"Necesen Java\\n\")       \n",
        "file.write(\"Necesen Python\\n\") \n",
        "file.write(\"Necesen C++\\n\") \n",
        "\n",
        "file.close"
      ],
      "metadata": {
        "colab": {
          "base_uri": "https://localhost:8080/"
        },
        "id": "7bldXORPAUG6",
        "outputId": "71d42d7d-db25-48bb-8aac-ded1279f804f"
      },
      "execution_count": 34,
      "outputs": [
        {
          "output_type": "execute_result",
          "data": {
            "text/plain": [
              "<function TextIOWrapper.close>"
            ]
          },
          "metadata": {},
          "execution_count": 34
        }
      ]
    },
    {
      "cell_type": "code",
      "source": [
        "file = open(\"Fayllar.txt\",\"r\")    #'r'ancaq oxumaq ucundur\n",
        "#file.seek(5) --- yeni 5 ci herfden baslayaraq 10 herfi goster\n",
        "veri=file.read()       # .read(10 veya her hansi reqem yazmaq olar)\n",
        "print(veri)\n",
        "\n",
        "file.close()"
      ],
      "metadata": {
        "colab": {
          "base_uri": "https://localhost:8080/"
        },
        "id": "jwdBrzc-BJYL",
        "outputId": "3e81bf4f-8c5e-4e29-8fa2-ca29efb82914"
      },
      "execution_count": 38,
      "outputs": [
        {
          "output_type": "stream",
          "name": "stdout",
          "text": [
            "Necesen Java\n",
            "Necesen Python\n",
            "Necesen C++\n"
          ]
        }
      ]
    },
    {
      "cell_type": "code",
      "source": [
        "file = open(\"Fayllar.txt\",\"r\")\n",
        "file.seek(5)               # --- yeni 5 ci herfden baslayaraq 10 herfi goster\n",
        "veri=file.read(10)         # .read(10 veya her hansi reqem yazmaq olar)\n",
        "print(veri)\n",
        "\n",
        "file.close()\n",
        "      "
      ],
      "metadata": {
        "colab": {
          "base_uri": "https://localhost:8080/"
        },
        "id": "CQ8Vx1-WDxiI",
        "outputId": "adc1952a-4b07-48d1-ff8a-528b1d397164"
      },
      "execution_count": 39,
      "outputs": [
        {
          "output_type": "stream",
          "name": "stdout",
          "text": [
            "en Java\n",
            "Ne\n"
          ]
        }
      ]
    },
    {
      "cell_type": "code",
      "source": [
        "file = open(\"Fayllar.txt\",\"r\")\n",
        "\n",
        "for satir in file:          #setirler arasinda bosluq yarandi\n",
        "      print(satir)\n",
        "file.close()"
      ],
      "metadata": {
        "colab": {
          "base_uri": "https://localhost:8080/"
        },
        "id": "XK0q4ShEEXeK",
        "outputId": "2a1b9c58-dd85-47a9-b27c-ad81c6967681"
      },
      "execution_count": 40,
      "outputs": [
        {
          "output_type": "stream",
          "name": "stdout",
          "text": [
            "Necesen Java\n",
            "\n",
            "Necesen Python\n",
            "\n",
            "Necesen C++\n"
          ]
        }
      ]
    },
    {
      "cell_type": "code",
      "source": [
        ""
      ],
      "metadata": {
        "id": "0Y2p41ThE5ru"
      },
      "execution_count": null,
      "outputs": []
    }
  ],
  "metadata": {
    "accelerator": "GPU",
    "colab": {
      "collapsed_sections": [],
      "name": "Копия блокнота \"l01c01_introduction_to_colab_and_python.ipynb\"",
      "provenance": [],
      "include_colab_link": true
    },
    "kernelspec": {
      "display_name": "Python 3",
      "name": "python3"
    }
  },
  "nbformat": 4,
  "nbformat_minor": 0
}